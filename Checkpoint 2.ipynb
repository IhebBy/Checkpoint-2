{
 "cells": [
  {
   "cell_type": "code",
   "execution_count": null,
   "metadata": {},
   "outputs": [],
   "source": [
    "List=[]\n",
    "for i in range(2000,3201):\n",
    "    if i%7==0 and i%5!=0:\n",
    "        List.append(i)\n",
    "List        "
   ]
  },
  {
   "cell_type": "code",
   "execution_count": null,
   "metadata": {},
   "outputs": [],
   "source": [
    "x=int(input(\"Give a number : \"))\n",
    "f=1\n",
    "for i in range(1,x+1):\n",
    "    f*=i\n",
    "print(f) "
   ]
  },
  {
   "cell_type": "code",
   "execution_count": null,
   "metadata": {},
   "outputs": [],
   "source": [
    "x=int(input(\"Give a number : \"))\n",
    "dic={}\n",
    "for i in range(1,x+1):\n",
    "    dic[i]=i*i\n",
    "dic    "
   ]
  },
  {
   "cell_type": "code",
   "execution_count": null,
   "metadata": {},
   "outputs": [],
   "source": [
    "ch1=''\n",
    "n=99\n",
    "ch=input('Give a word : ')\n",
    "while n>len(ch)-1:\n",
    "    n=int(input('Give a number : '))\n",
    "for i in range(len(ch)):\n",
    "    if i!=n:\n",
    "        ch1=ch1+ch[i]\n",
    "print(ch1)   "
   ]
  },
  {
   "cell_type": "code",
   "execution_count": null,
   "metadata": {},
   "outputs": [],
   "source": [
    "import numpy as np\n",
    "a=np.random.randint(1,100,size=[3,3])\n",
    "a.tolist()"
   ]
  },
  {
   "cell_type": "code",
   "execution_count": null,
   "metadata": {},
   "outputs": [],
   "source": [
    "import numpy as np \n",
    "a=np.random.randint(1,100,size=[3,3])\n",
    "print(a)\n",
    "np.cov(a).tolist()"
   ]
  },
  {
   "cell_type": "code",
   "execution_count": 11,
   "metadata": {},
   "outputs": [
    {
     "name": "stdout",
     "output_type": "stream",
     "text": [
      "Give the variable whose values should bein a comma-separated sequence 100,150,180\n",
      "['100', '150', '180']\n",
      "18,22,24\n"
     ]
    }
   ],
   "source": [
    "import math\n",
    "c=50\n",
    "h=30\n",
    "d=input('Give the variable whose values should bein a comma-separated sequence ')\n",
    "l=d.split(',')\n",
    "print(l)\n",
    "ch=''\n",
    "for i in l :\n",
    "    q=math.sqrt(2*c*int(i) / h )\n",
    "    ch=ch + ','+str(int(q))\n",
    "print(ch[1:])    "
   ]
  },
  {
   "cell_type": "code",
   "execution_count": null,
   "metadata": {},
   "outputs": [],
   "source": []
  }
 ],
 "metadata": {
  "kernelspec": {
   "display_name": "Python 3",
   "language": "python",
   "name": "python3"
  }
 },
 "nbformat": 4,
 "nbformat_minor": 4
}
